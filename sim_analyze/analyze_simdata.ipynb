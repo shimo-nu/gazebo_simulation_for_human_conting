{
 "cells": [
  {
   "cell_type": "code",
   "execution_count": 2,
   "id": "a199ed07-8be9-4c0e-8bf8-4c37ba8c0f72",
   "metadata": {},
   "outputs": [],
   "source": [
    "import pandas as pd\n",
    "import numpy as np"
   ]
  },
  {
   "cell_type": "markdown",
   "id": "3cd1f044-ce96-455a-a974-659a329e963e",
   "metadata": {},
   "source": [
    "## Setting Data"
   ]
  },
  {
   "cell_type": "code",
   "execution_count": null,
   "id": "273bde4b-8756-40be-a744-565ae41a4fb5",
   "metadata": {},
   "outputs": [],
   "source": []
  },
  {
   "cell_type": "markdown",
   "id": "7026b199-20b5-4368-8884-346b5e85fc61",
   "metadata": {},
   "source": [
    "## Post-Process Data"
   ]
  },
  {
   "cell_type": "code",
   "execution_count": 3,
   "id": "034f24bf-aeed-44f3-a7ed-c5b60cfd65ef",
   "metadata": {},
   "outputs": [],
   "source": [
    "raw_data = pd.read_csv(\"./many_people_sim_result.csv\")\n",
    "data_range = [int(min(raw_data['Timestamp'])), int(max(raw_data['Timestamp']) + 1)]"
   ]
  },
  {
   "cell_type": "code",
   "execution_count": 165,
   "id": "e8e13955-4c63-4c8b-a5b0-a0faa538a215",
   "metadata": {},
   "outputs": [],
   "source": [
    "user_position_list = {}\n",
    "for i in range(data_range[0], data_range[1]):\n",
    "    filtered_data = data[(data['Timestamp'] >= i) & (data['Timestamp'] < i + 1)]\n",
    "    dropped_filtered_data = filtered_data.drop_duplicates(subset='UUID', keep='first')\n",
    "\n",
    "    for index, row in dropped_filtered_data.iterrows():\n",
    "        user_position_list[row['UUID']] = {row['Timestamp']:[row['x'], row['y'], row['z']]}"
   ]
  },
  {
   "cell_type": "code",
   "execution_count": 166,
   "id": "14535b98-28a5-4745-9dfe-ef9f129b8c55",
   "metadata": {},
   "outputs": [
    {
     "name": "stdout",
     "output_type": "stream",
     "text": [
      "(0, 5)\n"
     ]
    },
    {
     "data": {
      "text/html": [
       "<div>\n",
       "<style scoped>\n",
       "    .dataframe tbody tr th:only-of-type {\n",
       "        vertical-align: middle;\n",
       "    }\n",
       "\n",
       "    .dataframe tbody tr th {\n",
       "        vertical-align: top;\n",
       "    }\n",
       "\n",
       "    .dataframe thead th {\n",
       "        text-align: right;\n",
       "    }\n",
       "</style>\n",
       "<table border=\"1\" class=\"dataframe\">\n",
       "  <thead>\n",
       "    <tr style=\"text-align: right;\">\n",
       "      <th></th>\n",
       "      <th>UUID</th>\n",
       "      <th>Timestamp</th>\n",
       "      <th>x</th>\n",
       "      <th>y</th>\n",
       "      <th>z</th>\n",
       "    </tr>\n",
       "  </thead>\n",
       "  <tbody>\n",
       "  </tbody>\n",
       "</table>\n",
       "</div>"
      ],
      "text/plain": [
       "Empty DataFrame\n",
       "Columns: [UUID, Timestamp, x, y, z]\n",
       "Index: []"
      ]
     },
     "execution_count": 166,
     "metadata": {},
     "output_type": "execute_result"
    }
   ],
   "source": [
    "i = 13680\n",
    "filtered_data = data[(data['Timestamp'] >= i) & (data['Timestamp'] < i + 1)]\n",
    "dropped_filtered_data = filtered_data.drop_duplicates(subset='UUID', keep='first')\n",
    "print(dropped_filtered_data.shape)\n",
    "dropped_filtered_data"
   ]
  },
  {
   "cell_type": "markdown",
   "id": "7a587e69-c77a-4084-9a92-eec64d3bcccf",
   "metadata": {},
   "source": [
    "### Filter Duplicate People"
   ]
  },
  {
   "cell_type": "code",
   "execution_count": 4,
   "id": "8b03cd2b-d4ca-41a0-a6d8-cdec5d993f87",
   "metadata": {},
   "outputs": [],
   "source": [
    "filtered_duplicate_people_data = []\n",
    "for i in range(data_range[0], data_range[1]):\n",
    "    filtered_data = raw_data[(raw_data['Timestamp'] >= i) & (raw_data['Timestamp'] < i + 1)]\n",
    "    dropped_filtered_data = filtered_data.drop_duplicates(subset='UUID', keep='first')\n",
    "    filtered_duplicate_people_data.append(dropped_filtered_data)\n",
    "filtered_duplicate_people_pd_data = pd.concat(filtered_duplicate_people_data)\n",
    "# filtered_duplicate_people_pd_data"
   ]
  },
  {
   "cell_type": "code",
   "execution_count": 7,
   "id": "15e75c2f-aed0-4fcd-b5da-b2f179b1e26a",
   "metadata": {},
   "outputs": [
    {
     "name": "stdout",
     "output_type": "stream",
     "text": [
      "                                  UUID  Timestamp        x         y         z\n",
      "0     8ba004c922a9b7f4b9da8c4b63ccae8d  13680.050 -3.93169 -3.001080  0.532280\n",
      "9     984917491cbf7b7feb65d794fee57dc7  13680.851 -4.42574 -0.521871  0.073672\n",
      "12    8ba004c922a9b7f4b9da8c4b63ccae8d  13681.051 -3.87624 -2.991800  0.530911\n",
      "13    984917491cbf7b7feb65d794fee57dc7  13681.051 -4.41836 -0.514856  0.084565\n",
      "22    5802b79d83f62e57829800b866624a83  13681.451 -4.96861 -2.082820  0.042470\n",
      "...                                ...        ...      ...       ...       ...\n",
      "2456  2888ba9268cad29cc7d84fded625fcaa  13723.009 -7.06929 -1.155150  0.129709\n",
      "2457  eb7c0b20350bd21e0b7d101522abcf30  13723.009 -6.05053 -2.129090  0.145877\n",
      "2458  88171658a61ffb50ec58050bfc0bf665  13723.009 -6.53425 -2.773960  0.146122\n",
      "2459  8ba004c922a9b7f4b9da8c4b63ccae8d  13723.009 -4.01424 -3.131510  0.092928\n",
      "2461  251da309aa9ce0f33cefe0ce06cb2cf2  13723.009 -4.99236 -3.604180  0.302438\n",
      "\n",
      "[367 rows x 5 columns]\n"
     ]
    }
   ],
   "source": [
    "# by chatgpt1\n",
    "filtered_duplicate_people_data = filtered_duplicate_people_pd_data.copy()\n",
    "filtered_duplicate_people_data.sort_values(by='Timestamp', inplace=True)\n",
    "\n",
    "# 各タイムスタンプのデータでループ処理\n",
    "for t in filtered_duplicate_people_data['Timestamp'].unique()[1:]:  # 最初のタイムスタンプを除くすべてのタイムスタンプ\n",
    "    current = filtered_duplicate_people_data[filtered_duplicate_people_data['Timestamp'] == t]\n",
    "    previous = filtered_duplicate_people_data[filtered_duplicate_people_data['Timestamp'] < t].drop_duplicates(subset='UUID', keep='last')\n",
    "    \n",
    "    # 各現在の位置に対して最も近い前の位置を見つける\n",
    "    for idx, row in current.iterrows():\n",
    "        min_dist = float('inf')\n",
    "        closest_uuid = None\n",
    "        \n",
    "        for p_idx, p_row in previous.iterrows():\n",
    "            dist = np.sqrt((p_row['x'] - row['x'])**2 + (p_row['y'] - row['y'])**2 + (p_row['z'] - row['z'])**2)\n",
    "            if dist < min_dist:\n",
    "                min_dist = dist\n",
    "                closest_uuid = p_row['UUID']\n",
    "        \n",
    "        # 距離が閾値（例えば0.5メートル）以下なら同じUUIDを割り当てる\n",
    "        if min_dist <= 0.5:\n",
    "            filtered_duplicate_people_data.at[idx, 'UUID'] = closest_uuid\n",
    "\n",
    "# 結果の確\n",
    "print(filtered_duplicate_people_data)"
   ]
  },
  {
   "cell_type": "code",
   "execution_count": 36,
   "id": "3006f0c3-7125-49d5-9ba4-78aaee61b396",
   "metadata": {},
   "outputs": [
    {
     "name": "stderr",
     "output_type": "stream",
     "text": [
      "/tmp/ipykernel_3837223/3015555882.py:20: SettingWithCopyWarning: \n",
      "A value is trying to be set on a copy of a slice from a DataFrame.\n",
      "Try using .loc[row_indexer,col_indexer] = value instead\n",
      "\n",
      "See the caveats in the documentation: https://pandas.pydata.org/pandas-docs/stable/user_guide/indexing.html#returning-a-view-versus-a-copy\n",
      "  previous_data['distance'] = np.sqrt((previous_data['x'] - current_row['x'])**2 + (previous_data['y'] - current_row['y'])**2 + (previous_data['z'] - current_row['z'])**2)\n"
     ]
    },
    {
     "name": "stdout",
     "output_type": "stream",
     "text": [
      "                                  UUID  Timestamp        x         y         z\n",
      "0     8ba004c922a9b7f4b9da8c4b63ccae8d  13680.050 -3.93169 -3.001080  0.532280\n",
      "9     984917491cbf7b7feb65d794fee57dc7  13680.851 -4.42574 -0.521871  0.073672\n",
      "13    984917491cbf7b7feb65d794fee57dc7  13681.051 -4.41836 -0.514856  0.084565\n",
      "12    8ba004c922a9b7f4b9da8c4b63ccae8d  13681.051 -3.87624 -2.991800  0.530911\n",
      "22    8ba004c922a9b7f4b9da8c4b63ccae8d  13681.451 -4.96861 -2.082820  0.042470\n",
      "...                                ...        ...      ...       ...       ...\n",
      "2458  8ba004c922a9b7f4b9da8c4b63ccae8d  13723.009 -6.53425 -2.773960  0.146122\n",
      "2457  8ba004c922a9b7f4b9da8c4b63ccae8d  13723.009 -6.05053 -2.129090  0.145877\n",
      "2460  8ba004c922a9b7f4b9da8c4b63ccae8d  13723.009 -5.52840 -1.196250  0.206273\n",
      "2461  8ba004c922a9b7f4b9da8c4b63ccae8d  13723.009 -4.99236 -3.604180  0.302438\n",
      "2459  8ba004c922a9b7f4b9da8c4b63ccae8d  13723.009 -4.01424 -3.131510  0.092928\n",
      "\n",
      "[367 rows x 5 columns]\n"
     ]
    }
   ],
   "source": [
    "# by chatgpt2\n",
    "filtered_duplicate_people_data = filtered_duplicate_people_pd_data.copy()\n",
    "\n",
    "# 検出されないフレームを許容する時間間隔（例：30秒）\n",
    "time_threshold = 2\n",
    "speed = 1.0 # [m/s]\n",
    "distance_threshold = speed * time_threshold\n",
    "\n",
    "# タイムスタンプと位置情報でデータをソート\n",
    "filtered_duplicate_people_data.sort_values(by=['Timestamp', 'x', 'y', 'z'], inplace=True)\n",
    "\n",
    "# 各データポイントをチェックしてUUIDを更新\n",
    "for index, current_row in filtered_duplicate_people_data.iterrows():\n",
    "    # 前のタイムスタンプのデータをチェック\n",
    "    mask = (filtered_duplicate_people_data['Timestamp'] < current_row['Timestamp']) & (filtered_duplicate_people_data['Timestamp'] >= current_row['Timestamp'] - time_threshold)\n",
    "    previous_data = filtered_duplicate_people_data[mask]\n",
    "    \n",
    "    if not previous_data.empty:\n",
    "        # 最も近いデータポイントを見つける\n",
    "        previous_data['distance'] = np.sqrt((previous_data['x'] - current_row['x'])**2 + (previous_data['y'] - current_row['y'])**2 + (previous_data['z'] - current_row['z'])**2)\n",
    "        closest_point = previous_data.loc[previous_data['distance'].idxmin()]\n",
    "        \n",
    "        # 閾値内で最も近い点があるか確認\n",
    "        if closest_point['distance'] < distance_threshold:  # 位置が1メートル以内であれば同一と見なす\n",
    "            filtered_duplicate_people_data.at[index, 'UUID'] = closest_point['UUID']\n",
    "\n",
    "# 結果の確認\n",
    "print(filtered_duplicate_people_data)"
   ]
  },
  {
   "cell_type": "code",
   "execution_count": 37,
   "id": "5f04a8fd-0c6f-4042-9bc6-886ef1dc46f8",
   "metadata": {},
   "outputs": [],
   "source": [
    "data = filtered_duplicate_people_data.copy()"
   ]
  },
  {
   "cell_type": "markdown",
   "id": "d592d4ef-28ae-4d8e-86a1-762cafbc2124",
   "metadata": {},
   "source": [
    "### Filter Measured Area"
   ]
  },
  {
   "cell_type": "code",
   "execution_count": 12,
   "id": "2841cfa8-e0af-49a8-a1d1-15b91369985d",
   "metadata": {},
   "outputs": [],
   "source": [
    "map_range = {'x': [-7, -3], 'y': [2, 7]}\n",
    "map_range = {'x': [-14, -6], 'y': [0, 6]}\n",
    "map_filtered_data = data[\n",
    "    (data['x'] > map_range['x'][0]) & (data['x'] < map_range['x'][1]) &\n",
    "    (data['y'] > map_range['y'][0]) & (data['y'] < map_range['y'][1])\n",
    "]"
   ]
  },
  {
   "cell_type": "code",
   "execution_count": 13,
   "id": "e538729b-d34c-4b5f-9f52-c0f23c549ba8",
   "metadata": {},
   "outputs": [],
   "source": [
    "filtered_data = map_filtered_data"
   ]
  },
  {
   "cell_type": "code",
   "execution_count": 14,
   "id": "1961d74e-674b-4a43-9434-ea799b99af71",
   "metadata": {},
   "outputs": [],
   "source": [
    "data = filtered_data.copy()"
   ]
  },
  {
   "cell_type": "markdown",
   "id": "a21fd749-7c2f-491b-8961-40a91168b5f9",
   "metadata": {},
   "source": [
    "### Load PCD Map"
   ]
  },
  {
   "cell_type": "code",
   "execution_count": 20,
   "id": "64974b47-a6fb-4e0e-941c-19bac05f83fc",
   "metadata": {},
   "outputs": [],
   "source": [
    "import open3d as o3d\n",
    "import matplotlib.pyplot as plt"
   ]
  },
  {
   "cell_type": "code",
   "execution_count": 17,
   "id": "077f790b-da77-429f-95b0-700427591746",
   "metadata": {},
   "outputs": [],
   "source": [
    "map_pcd = o3d.io.read_point_cloud(\"./map/many_people_sim_map.pcd\")\n",
    "map_pcd_nparray = np.asarray(map_pcd.points)"
   ]
  },
  {
   "cell_type": "code",
   "execution_count": 18,
   "id": "993a692d-9786-426d-a0bc-95500327c626",
   "metadata": {},
   "outputs": [],
   "source": [
    "map_x, map_y = [], []\n",
    "for map_point in map_pcd_nparray:\n",
    "    if (map_point[2] > 1 and map_point[2] < 1.2):\n",
    "        map_x.append(map_point[0])\n",
    "        map_y.append(map_point[1])"
   ]
  },
  {
   "cell_type": "code",
   "execution_count": 21,
   "id": "7929aafd-7529-42d5-a9de-95616dfc0406",
   "metadata": {
    "scrolled": true
   },
   "outputs": [
    {
     "data": {
      "image/png": "[encoded data removed]",
      "text/plain": [
       "<Figure size 640x480 with 1 Axes>"
      ]
     },
     "metadata": {},
     "output_type": "display_data"
    }
   ],
   "source": [
    "fig, ax = plt.subplots()\n",
    "ax.scatter(map_x, map_y, s=10)\n",
    "ax.grid()\n",
    "plt.show()"
   ]
  },
  {
   "cell_type": "markdown",
   "id": "8c2c4a6b-c034-44c7-a606-1d53091bce9d",
   "metadata": {},
   "source": [
    "## Visualize Data"
   ]
  },
  {
   "cell_type": "code",
   "execution_count": 22,
   "id": "3b8beadd-ec8f-4c82-beed-e2ce7529e018",
   "metadata": {},
   "outputs": [],
   "source": [
    "import matplotlib.pyplot as plt\n",
    "from matplotlib.animation import FuncAnimation, ArtistAnimation\n",
    "from IPython.display import HTML"
   ]
  },
  {
   "cell_type": "code",
   "execution_count": 38,
   "id": "148e48f6-6a95-4a9c-b151-86459bdfe5c0",
   "metadata": {
    "scrolled": true
   },
   "outputs": [
    {
     "name": "stdout",
     "output_type": "stream",
     "text": [
      "Time 13680 : the num of people is 2\n",
      "Time 13681 : the num of people is 2\n",
      "Time 13682 : the num of people is 2\n",
      "Time 13683 : the num of people is 2\n",
      "Time 13684 : the num of people is 2\n",
      "Time 13685 : the num of people is 2\n",
      "Time 13686 : the num of people is 2\n",
      "Time 13687 : the num of people is 2\n",
      "Time 13688 : the num of people is 2\n",
      "Time 13689 : the num of people is 2\n",
      "Time 13690 : the num of people is 2\n",
      "Time 13691 : the num of people is 2\n",
      "Time 13692 : the num of people is 2\n",
      "Time 13693 : the num of people is 2\n",
      "Time 13694 : the num of people is 2\n",
      "Time 13695 : the num of people is 2\n",
      "Time 13696 : the num of people is 2\n",
      "Time 13697 : the num of people is 2\n",
      "Time 13698 : the num of people is 2\n",
      "Time 13699 : the num of people is 2\n",
      "Time 13700 : the num of people is 2\n",
      "Time 13701 : the num of people is 2\n",
      "Time 13702 : the num of people is 2\n",
      "Time 13703 : the num of people is 2\n",
      "Time 13704 : the num of people is 2\n",
      "Time 13705 : the num of people is 2\n",
      "Time 13706 : the num of people is 2\n",
      "Time 13707 : the num of people is 2\n",
      "Time 13708 : the num of people is 2\n",
      "Time 13709 : the num of people is 1\n",
      "Time 13710 : the num of people is 1\n",
      "Time 13711 : the num of people is 1\n",
      "Time 13712 : the num of people is 1\n",
      "Time 13713 : the num of people is 1\n",
      "Time 13714 : the num of people is 1\n",
      "Time 13715 : the num of people is 1\n",
      "Time 13716 : the num of people is 1\n",
      "Time 13717 : the num of people is 1\n",
      "Time 13718 : the num of people is 1\n",
      "Time 13719 : the num of people is 1\n",
      "Time 13720 : the num of people is 1\n",
      "Time 13721 : the num of people is 1\n",
      "Time 13722 : the num of people is 1\n",
      "Time 13723 : the num of people is 1\n",
      "The num of measured people is 2\n"
     ]
    }
   ],
   "source": [
    "fig, ax = plt.subplots()\n",
    "\n",
    "\n",
    "UUID_color_dict = {}\n",
    "color_idx = 0\n",
    "\n",
    "map_scatter = ax.scatter(map_x, map_y, s=10)\n",
    "\n",
    "frames = []\n",
    "\n",
    "for i in range(data_range[0], data_range[1]):\n",
    "    filtered_data = data[(data['Timestamp'] >= i) & (data['Timestamp'] < i + 1)]\n",
    "    dropped_filtered_data = filtered_data.drop_duplicates(subset='UUID', keep='first')\n",
    "\n",
    "    artists = []\n",
    "    for index, row in dropped_filtered_data.iterrows():\n",
    "        if (row['UUID'] not in UUID_color_dict):\n",
    "            UUID_color_dict[row['UUID']] = f'C{color_idx}'\n",
    "            color_idx += 1\n",
    "        artist = ax.plot((1) * row['x'], (1) * row['y'], '.', c=UUID_color_dict[row['UUID']])\n",
    "        artists.extend(artist)\n",
    "\n",
    "         # 色の名前をテキストとして表示\n",
    "        text_artist = ax.text(row['x'] + 0.1, row['y'], UUID_color_dict[row['UUID']], fontsize=8, color=UUID_color_dict[row['UUID']])\n",
    "        artists.append(text_artist)\n",
    "        \n",
    "    print(f\"Time {i} : the num of people is {dropped_filtered_data.shape[0]}\")\n",
    "    ax.set_xlabel('x')\n",
    "    ax.set_ylabel('y')\n",
    "    ax.grid(True)\n",
    "    \n",
    "    title = ax.text(0.5, 1.01, f\"Timestamp : {i}\", ha='center', va='bottom', transform=ax.transAxes, fontsize='large')\n",
    "    artists.append(title)\n",
    "   \n",
    "    artists.append(map_scatter)\n",
    "    \n",
    "    frames.append(artists)\n",
    "print(f\"The num of measured people is {len(UUID_color_dict)}\")\n",
    "ani = ArtistAnimation(fig, frames, interval = 1000)\n",
    "ani.save('./animation.mp4', writer=\"ffmpeg\")\n",
    "plt.close()"
   ]
  },
  {
   "cell_type": "code",
   "execution_count": null,
   "id": "e344db0b-a5f1-416f-9935-bac09f2db60c",
   "metadata": {},
   "outputs": [],
   "source": []
  },
  {
   "cell_type": "code",
   "execution_count": null,
   "id": "bb510b29-70a4-490d-9740-5e69578b418b",
   "metadata": {},
   "outputs": [],
   "source": []
  }
 ],
 "metadata": {
  "kernelspec": {
   "display_name": "Python 3 (ipykernel)",
   "language": "python",
   "name": "python3"
  },
  "language_info": {
   "codemirror_mode": {
    "name": "ipython",
    "version": 3
   },
   "file_extension": ".py",
   "mimetype": "text/x-python",
   "name": "python",
   "nbconvert_exporter": "python",
   "pygments_lexer": "ipython3",
   "version": "3.10.12"
  }
 },
 "nbformat": 4,
 "nbformat_minor": 5
}
